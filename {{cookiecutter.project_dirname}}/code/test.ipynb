{
 "cells": [
  {
   "cell_type": "code",
   "execution_count": 1,
   "id": "53a10148-0fab-49b2-b1c2-82a7b2ee5763",
   "metadata": {
    "tags": []
   },
   "outputs": [],
   "source": [
    "import ibis\n",
    "import easier as ezr\n"
   ]
  },
  {
   "cell_type": "code",
   "execution_count": 2,
   "id": "07ddcdcd-ea03-4eb4-a2c3-3312a126fd97",
   "metadata": {
    "tags": []
   },
   "outputs": [
    {
     "name": "stdout",
     "output_type": "stream",
     "text": [
      "rob\n"
     ]
    }
   ],
   "source": [
    "print('rob')"
   ]
  },
  {
   "cell_type": "code",
   "execution_count": 3,
   "id": "7ac6fb32-9dc2-42a9-8118-406434dd7167",
   "metadata": {
    "tags": []
   },
   "outputs": [],
   "source": [
    "conn = ibis.postgres.connect(url=ezr.pg_creds_from_env())"
   ]
  },
  {
   "cell_type": "code",
   "execution_count": 4,
   "id": "804d2163-7ee7-4d1f-848f-e1bb87d66852",
   "metadata": {
    "tags": []
   },
   "outputs": [
    {
     "data": {
      "text/html": [
       "<div>\n",
       "<style scoped>\n",
       "    .dataframe tbody tr th:only-of-type {\n",
       "        vertical-align: middle;\n",
       "    }\n",
       "\n",
       "    .dataframe tbody tr th {\n",
       "        vertical-align: top;\n",
       "    }\n",
       "\n",
       "    .dataframe thead th {\n",
       "        text-align: right;\n",
       "    }\n",
       "</style>\n",
       "<table border=\"1\" class=\"dataframe\">\n",
       "  <thead>\n",
       "    <tr style=\"text-align: right;\">\n",
       "      <th></th>\n",
       "      <th>id</th>\n",
       "      <th>time_start</th>\n",
       "      <th>time_end</th>\n",
       "      <th>schedule_type</th>\n",
       "      <th>assigned_id</th>\n",
       "      <th>clinic_id</th>\n",
       "      <th>team_id</th>\n",
       "      <th>layer</th>\n",
       "      <th>pay_code</th>\n",
       "    </tr>\n",
       "  </thead>\n",
       "  <tbody>\n",
       "    <tr>\n",
       "      <th>0</th>\n",
       "      <td>37</td>\n",
       "      <td>2019-01-22 13:00:00+00:00</td>\n",
       "      <td>2019-01-23 01:00:00+00:00</td>\n",
       "      <td>ALERT_SCHEDULE</td>\n",
       "      <td>144</td>\n",
       "      <td>1</td>\n",
       "      <td>1</td>\n",
       "      <td></td>\n",
       "      <td>DEFAULT</td>\n",
       "    </tr>\n",
       "    <tr>\n",
       "      <th>1</th>\n",
       "      <td>39</td>\n",
       "      <td>2019-01-23 13:00:00+00:00</td>\n",
       "      <td>2019-01-24 01:00:00+00:00</td>\n",
       "      <td>ALERT_SCHEDULE</td>\n",
       "      <td>144</td>\n",
       "      <td>1</td>\n",
       "      <td>1</td>\n",
       "      <td></td>\n",
       "      <td>DEFAULT</td>\n",
       "    </tr>\n",
       "  </tbody>\n",
       "</table>\n",
       "</div>"
      ],
      "text/plain": [
       "   id                time_start                  time_end   schedule_type  \\\n",
       "0  37 2019-01-22 13:00:00+00:00 2019-01-23 01:00:00+00:00  ALERT_SCHEDULE   \n",
       "1  39 2019-01-23 13:00:00+00:00 2019-01-24 01:00:00+00:00  ALERT_SCHEDULE   \n",
       "\n",
       "   assigned_id  clinic_id  team_id layer pay_code  \n",
       "0          144          1        1        DEFAULT  \n",
       "1          144          1        1        DEFAULT  "
      ]
     },
     "metadata": {},
     "output_type": "display_data"
    }
   ],
   "source": [
    "block = conn.table(\"hello_scheduleblock\")\n",
    "display(block.head(2).execute())\n",
    "block = block.select(\"time_start\", \"assigned_id\", \"time_end\", \"pay_code\")\n",
    "# block = block[block.columns]\n",
    "block = block.relabel({\"assigned_id\": \"doctor_id\"})\n",
    "ibis.to_sql(block)\n",
    "df = block.execute()\n",
    "df.to_parquet(\"bad_schedule_block.parquet\", index=False)\n",
    "# df"
   ]
  },
  {
   "cell_type": "code",
   "execution_count": null,
   "id": "0a73a939-e405-4256-a16d-499886ed5877",
   "metadata": {
    "tags": []
   },
   "outputs": [],
   "source": []
  },
  {
   "cell_type": "code",
   "execution_count": null,
   "id": "76f7ba23-7cf4-4000-8c55-77ad0dea8511",
   "metadata": {},
   "outputs": [],
   "source": []
  }
 ],
 "metadata": {
  "kernelspec": {
   "display_name": "Python 3 (ipykernel)",
   "language": "python",
   "name": "python3"
  },
  "language_info": {
   "codemirror_mode": {
    "name": "ipython",
    "version": 3
   },
   "file_extension": ".py",
   "mimetype": "text/x-python",
   "name": "python",
   "nbconvert_exporter": "python",
   "pygments_lexer": "ipython3",
   "version": "3.10.11"
  }
 },
 "nbformat": 4,
 "nbformat_minor": 5
}
